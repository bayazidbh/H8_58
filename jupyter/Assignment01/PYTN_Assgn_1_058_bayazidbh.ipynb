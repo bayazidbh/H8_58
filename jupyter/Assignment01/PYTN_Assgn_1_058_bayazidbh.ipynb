{
 "cells": [
  {
   "cell_type": "code",
   "execution_count": null,
   "id": "c9a7ea8d",
   "metadata": {},
   "outputs": [],
   "source": [
    "### Download Dataset yang diperlukan dari kaggle di sini, lalu save ke folder /dataset.\n",
    "### Buat Notebook baru, lalu rename menjadi “PYTN_Assgn_1_<batch_number>_<nama>\".\n",
    "### Lakukan Data Visualization kepada dataset seperti Line, Area, Scatter Plot, Box Plot, Word Clouds, Folium Maps dan metode Visualization Plot yang telah kamu pelajari di couse ini. Scroll ke bawah, ke bagian Project Rubric untuk melihat kriteria yang harus dipenuhi. Kamu dapat memilih kolom apa saja yang kamu inginkan.\n",
    "### Kumpulkan informasi menggunakan analisis kamu.\n",
    "### Area Plot\tMengimplementasikan Area Plot Menggunakan `Matplotlib` Dengan Data Yang Relevan Dan Sesuai Dengan Kegunaan Plot/Grafik\n",
    "### Histogram\tMengimplementasikan Histogram Menggunakan `Matplotlib` Dengan Data Yang Relevan Dan Sesuai Dengan Kegunaan Plot/Grafik.\n",
    "### Bar Chart\tMengimplementasikan Bar Chart Menggunakan `Matplotlib` Dengan Data Yang Relevan Dan Sesuai Dengan Kegunaan Plot/Grafik.\n",
    "### Pie Chart\tMengimplementasikan Pie Chart Menggunakan `Matplotlib` Dengan Data Yang Relevan Dan Sesuai Dengan Kegunaan Plot/Grafik.\n",
    "### Box Plot\tMengimplementasikan Box Plot Menggunakan `Matplotlib` Dengan Data Yang Relevan Dan Sesuai Dengan Kegunaan Plot/Grafik.\n",
    "### Scatter Plot\tMengimplementasikan Scatter Plot Menggunakan `Matplotlib` Dengan Data Yang Relevan Dan Sesuai Dengan Kegunaan Plot/Grafik.\n",
    "### Word Clouds\tMengimplementasikan Word Clouds Menggunakan `Wordclouds` Library Dengan Data Yang Relevan Dan Sesuai Dengan Kegunaan Plot/Grafik.\n",
    "### Folium Maps\tMengimplementasikan London Maps Menggunakan `Folium`.\n",
    "### Preprocessing\tStudent Melakukan Preproses Dataset Sebelum Menerapkan Visualisasi.\n",
    "### Apakah Kode Berjalan Tanpa Ada Eror?\tSeluruh Kode Berfungsi Dan Dibuat Dengan Benar.\n",
    "\n",
    "# importing all libraries\n",
    "\n",
    "import numpy as np\n",
    "import pandas as pd\n",
    "import folium\n",
    "import seaborn as sns\n",
    "from wordcloud import WordCloud, STOPWORDS\n",
    "from PIL import ImgPil\n",
    "from folium import plugins\n",
    "\n",
    "%matplotlib inline\n",
    "\n",
    "import matplotlib as mpl\n",
    "import matplotlib.pyplot as plt\n",
    "import matplotlib.patches as mpatches # needed for waffle Charts\n",
    "\n",
    "mpl.style.use('ggplot') # optional: for ggplot-like style\n",
    "\n",
    "# check for latest version of Matplotlib\n",
    "print ('Matplotlib version: ', mpl.__version__) # >= 2.0.0"
   ]
  },
  {
   "cell_type": "code",
   "execution_count": null,
   "id": "1514cc68",
   "metadata": {},
   "outputs": [],
   "source": []
  }
 ],
 "metadata": {
  "kernelspec": {
   "display_name": "Python 3",
   "language": "python",
   "name": "python3"
  },
  "language_info": {
   "codemirror_mode": {
    "name": "ipython",
    "version": 3
   },
   "file_extension": ".py",
   "mimetype": "text/x-python",
   "name": "python",
   "nbconvert_exporter": "python",
   "pygments_lexer": "ipython3",
   "version": "3.8.8"
  }
 },
 "nbformat": 4,
 "nbformat_minor": 5
}
