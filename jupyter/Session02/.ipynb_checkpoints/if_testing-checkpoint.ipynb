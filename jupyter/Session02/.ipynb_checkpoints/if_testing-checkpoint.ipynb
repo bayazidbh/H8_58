{
 "cells": [
  {
   "cell_type": "code",
   "execution_count": 9,
   "id": "5112c8fe",
   "metadata": {},
   "outputs": [
    {
     "name": "stdout",
     "output_type": "stream",
     "text": [
      "5\n",
      "6\n",
      "7\n",
      "8\n",
      "9\n",
      "10\n"
     ]
    }
   ],
   "source": [
    "i = 5\n",
    "\n",
    "while i < 10:\n",
    "    print(i)\n",
    "    i += 1\n",
    "\n",
    "print(i)"
   ]
  },
  {
   "cell_type": "code",
   "execution_count": 20,
   "id": "33fc7799",
   "metadata": {},
   "outputs": [
    {
     "name": "stdout",
     "output_type": "stream",
     "text": [
      "testfoo\n",
      "bar\n",
      "> baz\n",
      "> qux\n"
     ]
    }
   ],
   "source": [
    "a = ['foo', 'bar']\n",
    "\n",
    "print(\"test\"+a.pop(0))\n",
    "\n",
    "while len(a):\n",
    "    print(a.pop(0))\n",
    "    \n",
    "    b = ['baz', 'qux']\n",
    "    \n",
    "    while len(b):\n",
    "        print('>', b.pop(0))\n",
    "        "
   ]
  },
  {
   "cell_type": "code",
   "execution_count": 13,
   "id": "2ebbd8dd",
   "metadata": {
    "scrolled": true
   },
   "outputs": [
    {
     "name": "stdout",
     "output_type": "stream",
     "text": [
      "foo\n"
     ]
    }
   ],
   "source": [
    "a = ['foo', 'bar']\n",
    "print(a.pop(0))"
   ]
  },
  {
   "cell_type": "code",
   "execution_count": 25,
   "id": "a47b6911",
   "metadata": {},
   "outputs": [
    {
     "name": "stdout",
     "output_type": "stream",
     "text": [
      "a0\n",
      "a1\n",
      "a2\n",
      "a3\n",
      "a4\n",
      "\n",
      "b5\n",
      "b6\n",
      "b7\n",
      "b8\n",
      "b9\n",
      "\n",
      "5\n",
      "7\n",
      "9\n"
     ]
    }
   ],
   "source": [
    "# range(n) --> 0 - (n-1)\n",
    "# range(m,n) --> m - (m-1) until m=n\n",
    "# range(m,n,o) --> m, m+o, m+2o[...] until m=n\n",
    "\n",
    "for i in range (5):\n",
    "    print(\"a\"+str(i))\n",
    "\n",
    "print()\n",
    "i = 0\n",
    "\n",
    "for i in range (5,10):\n",
    "    print(\"b\"+str(i))\n",
    "\n",
    "print()\n",
    "i = 0\n",
    "\n",
    "for i in range (5,10,2):\n",
    "    print(i)"
   ]
  },
  {
   "cell_type": "code",
   "execution_count": 27,
   "id": "9172c433",
   "metadata": {
    "scrolled": true
   },
   "outputs": [
    {
     "ename": "SyntaxError",
     "evalue": "invalid syntax (<ipython-input-27-78a977149b8c>, line 12)",
     "output_type": "error",
     "traceback": [
      "\u001b[0;36m  File \u001b[0;32m\"<ipython-input-27-78a977149b8c>\"\u001b[0;36m, line \u001b[0;32m12\u001b[0m\n\u001b[0;31m    print(\"Temperaturnya adalah\", result, if i_convertion == \"C\": print(\"C\"); elif i_convertion == \"F\" : print(\"C\"), \"derajat\")\u001b[0m\n\u001b[0m                                          ^\u001b[0m\n\u001b[0;31mSyntaxError\u001b[0m\u001b[0;31m:\u001b[0m invalid syntax\n"
     ]
    }
   ],
   "source": [
    "\n",
    "temp = input(\"Ketikan temperatur yang ingin dikonversi, eg. 45F, 120C: \")\n",
    "degree = int(temp[:-1])\n",
    "i_convertion = temp[-1]\n",
    "\n",
    "if i_convertion == \"C\":\n",
    "    result = int(round((9 * degree) / 5 + 32))\n",
    "elif i_convertion == \"F\":\n",
    "    result = int(round((degree - 32) * 5 / 9))\n",
    "else:\n",
    "    print(\"Masukan input yang benar\")\n",
    "\n",
    "print(\"Temperaturnya adalah\", result, if i_convertion == \"C\": print(\"C\"); elif i_convertion == \"F\" : print(\"C\"), \"derajat\")"
   ]
  },
  {
   "cell_type": "code",
   "execution_count": 47,
   "id": "0103acb4",
   "metadata": {},
   "outputs": [
    {
     "name": "stdout",
     "output_type": "stream",
     "text": [
      "Masukkan angka 3\n",
      "ganjil\n"
     ]
    }
   ],
   "source": [
    "a = int(input(\"Masukkan angka \"))\n",
    "\n",
    "\n",
    "if a % 2 == 0:\n",
    "    print(\"genap\")\n",
    "elif a % 2 == 1:\n",
    "    print(\"ganjil\")"
   ]
  },
  {
   "cell_type": "code",
   "execution_count": 53,
   "id": "e2fd45e8",
   "metadata": {},
   "outputs": [
    {
     "name": "stdout",
     "output_type": "stream",
     "text": [
      "Masukkan angka 14\n",
      "1\n",
      "2\n",
      "7\n"
     ]
    }
   ],
   "source": [
    "x = int(input(\"Masukkan angka \"))\n",
    "y = 1\n",
    "\n",
    "while y < x:\n",
    "    if x % y == 0:\n",
    "        print(y)\n",
    "    y += 1\n"
   ]
  },
  {
   "cell_type": "code",
   "execution_count": 118,
   "id": "80e81146",
   "metadata": {},
   "outputs": [
    {
     "name": "stdout",
     "output_type": "stream",
     "text": [
      "Masukkan angka 1-100: 54\n",
      "0\n"
     ]
    }
   ],
   "source": [
    "nilai = int(input(\"Masukkan angka 1-100: \"))\n",
    "\n",
    "conv = int((nilai-50) / 5)\n",
    "\n",
    "print(conv)"
   ]
  },
  {
   "cell_type": "code",
   "execution_count": 27,
   "id": "c0878d27",
   "metadata": {},
   "outputs": [
    {
     "name": "stdout",
     "output_type": "stream",
     "text": [
      "Masukkan angka 1-100: 106\n",
      "too high\n"
     ]
    }
   ],
   "source": [
    "nilai = int(input(\"Masukkan angka 1-100: \"))\n",
    "huruf = ['E', 'E+', 'D', 'D+', 'C', 'C+', 'B', 'B+', 'A', 'A+']\n",
    "conv = int((nilai-55) / 5)\n",
    "\n",
    "if nilai >= 101:\n",
    "    print(\"too high\")\n",
    "else: print(huruf[conv])"
   ]
  },
  {
   "cell_type": "code",
   "execution_count": 34,
   "id": "34cb1e7e",
   "metadata": {},
   "outputs": [
    {
     "name": "stdout",
     "output_type": "stream",
     "text": [
      "Masukkan angka 1-100: 79\n",
      "C+\n"
     ]
    }
   ],
   "source": [
    "nilai = int(input(\"Masukkan angka 1-100: \"))\n",
    "\n",
    "if nilai <= 49:\n",
    "    print(\"E\")\n",
    "elif nilai <= 50:\n",
    "    print(\"E+\")\n",
    "elif nilai <= 65:\n",
    "    print(\"D\")\n",
    "elif nilai <= 70:\n",
    "    print(\"D+\")\n",
    "elif nilai <= 75:\n",
    "    print(\"C\")\n",
    "elif nilai <= 80:\n",
    "    print(\"C+\")\n",
    "elif nilai <= 85:\n",
    "    print(\"B\")\n",
    "elif nilai <= 90:\n",
    "    print(\"B+\")\n",
    "elif nilai <= 95:\n",
    "    print(\"A\")\n",
    "elif nilai <= 100:\n",
    "    print(\"A+\")\n",
    "else:\n",
    "    print(\"Angka tidak valid.\")"
   ]
  },
  {
   "cell_type": "code",
   "execution_count": 94,
   "id": "0c23bd74",
   "metadata": {},
   "outputs": [
    {
     "name": "stdout",
     "output_type": "stream",
     "text": [
      "6\n",
      "Masukkan angka 1-9: 1\n",
      "too low\n",
      "Masukkan angka 1-9: 2\n",
      "too low\n",
      "Masukkan angka 1-9: 9\n",
      "too high\n",
      "Masukkan angka 1-9: 6\n",
      "you got it\n"
     ]
    }
   ],
   "source": [
    "import random\n",
    "x = random.randint(1,9)\n",
    "\n",
    "print(x)\n",
    "\n",
    "y = int(input(\"Masukkan angka 1-9: \"))\n",
    "\n",
    "while y != x:\n",
    "    if y > x:\n",
    "        print(\"too high\")\n",
    "        y = int(input(\"Masukkan angka 1-9: \"))\n",
    "    if y < x:\n",
    "        print(\"too low\")\n",
    "        y = int(input(\"Masukkan angka 1-9: \"))\n",
    "\n",
    "print(\"you got it\")"
   ]
  },
  {
   "cell_type": "code",
   "execution_count": null,
   "id": "b777d25d",
   "metadata": {},
   "outputs": [],
   "source": []
  },
  {
   "cell_type": "code",
   "execution_count": null,
   "id": "e7888829",
   "metadata": {},
   "outputs": [],
   "source": []
  }
 ],
 "metadata": {
  "kernelspec": {
   "display_name": "Python 3",
   "language": "python",
   "name": "python3"
  },
  "language_info": {
   "codemirror_mode": {
    "name": "ipython",
    "version": 3
   },
   "file_extension": ".py",
   "mimetype": "text/x-python",
   "name": "python",
   "nbconvert_exporter": "python",
   "pygments_lexer": "ipython3",
   "version": "3.8.8"
  }
 },
 "nbformat": 4,
 "nbformat_minor": 5
}
