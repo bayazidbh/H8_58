{
 "cells": [
  {
   "cell_type": "code",
   "execution_count": 15,
   "id": "9041ac44",
   "metadata": {},
   "outputs": [
    {
     "name": "stdout",
     "output_type": "stream",
     "text": [
      "Numbers added :  10\n",
      "Numbers multiplied :  24\n"
     ]
    }
   ],
   "source": [
    "numbers = [1,2,3,4]\n",
    "\n",
    "def sum (arg1):\n",
    "\n",
    "\n",
    "   total = 0\n",
    "   for x in numbers: \n",
    "        total = total + x\n",
    "   print(\"Numbers added : \", total)\n",
    "   return;\n",
    "    \n",
    "def multiply (arg1):\n",
    "\n",
    "\n",
    "   result = 1\n",
    "   for x in numbers: \n",
    "        result = result * x\n",
    "   print(\"Numbers multiplied : \", result)\n",
    "   return;\n",
    "\n",
    "sum(numbers)\n",
    "multiply(numbers)"
   ]
  },
  {
   "cell_type": "code",
   "execution_count": null,
   "id": "752dd90a",
   "metadata": {},
   "outputs": [],
   "source": []
  },
  {
   "cell_type": "code",
   "execution_count": 24,
   "id": "d8802d53",
   "metadata": {},
   "outputs": [
    {
     "name": "stdout",
     "output_type": "stream",
     "text": [
      "input text: abcd\n"
     ]
    },
    {
     "data": {
      "text/plain": [
       "'dcba'"
      ]
     },
     "execution_count": 24,
     "metadata": {},
     "output_type": "execute_result"
    }
   ],
   "source": [
    "x = input(\"input text: \")\n",
    "\n",
    "def reversal (arg1):\n",
    "    return x[::-1];\n",
    "\n",
    "reversal(x)"
   ]
  },
  {
   "cell_type": "code",
   "execution_count": 28,
   "id": "4a233f60",
   "metadata": {
    "scrolled": true
   },
   "outputs": [
    {
     "name": "stdout",
     "output_type": "stream",
     "text": [
      "Input text: testa\n",
      "atset\n"
     ]
    }
   ],
   "source": [
    "texta = str(input (\"Input text: \"))\n",
    "\n",
    "def reverse (strg):\n",
    "    hasil = ''\n",
    "    for i in texta:\n",
    "        hasil = i + hasil\n",
    "    return print(hasil)\n",
    "\n",
    "reverse(texta)"
   ]
  },
  {
   "cell_type": "code",
   "execution_count": null,
   "id": "d47551db",
   "metadata": {},
   "outputs": [],
   "source": []
  },
  {
   "cell_type": "code",
   "execution_count": null,
   "id": "088e46ce",
   "metadata": {},
   "outputs": [],
   "source": []
  }
 ],
 "metadata": {
  "kernelspec": {
   "display_name": "Python 3",
   "language": "python",
   "name": "python3"
  },
  "language_info": {
   "codemirror_mode": {
    "name": "ipython",
    "version": 3
   },
   "file_extension": ".py",
   "mimetype": "text/x-python",
   "name": "python",
   "nbconvert_exporter": "python",
   "pygments_lexer": "ipython3",
   "version": "3.8.8"
  }
 },
 "nbformat": 4,
 "nbformat_minor": 5
}
